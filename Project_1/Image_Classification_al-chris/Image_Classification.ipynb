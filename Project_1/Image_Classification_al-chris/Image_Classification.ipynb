{
 "cells": [
  {
   "cell_type": "code",
   "execution_count": 1,
   "metadata": {
    "executionInfo": {
     "elapsed": 2967,
     "status": "ok",
     "timestamp": 1696089263669,
     "user": {
      "displayName": "Al Chris",
      "userId": "05344342153170255499"
     },
     "user_tz": -60
    },
    "id": "kTcDim7GZHud"
   },
   "outputs": [],
   "source": [
    "import os\n",
    "import tensorflow as tf\n",
    "import numpy as np\n",
    "import matplotlib.pyplot as plt\n",
    "from tensorflow.keras.layers import Dense, Conv2D, BatchNormalization, MaxPooling2D, Softmax, Flatten, ReLU\n",
    "from tensorflow.keras.models import Sequential\n",
    "from tensorflow.keras.losses import SparseCategoricalCrossentropy\n",
    "from tensorflow.keras.utils import image_dataset_from_directory\n",
    "from tensorflow.keras.callbacks import EarlyStopping"
   ]
  },
  {
   "cell_type": "code",
   "execution_count": 2,
   "metadata": {
    "executionInfo": {
     "elapsed": 354,
     "status": "ok",
     "timestamp": 1696089267266,
     "user": {
      "displayName": "Al Chris",
      "userId": "05344342153170255499"
     },
     "user_tz": -60
    },
    "id": "d7r54MJ5yHWR"
   },
   "outputs": [],
   "source": [
    "early_stopping_monitor = EarlyStopping(patience=4)"
   ]
  },
  {
   "cell_type": "code",
   "execution_count": 15,
   "metadata": {
    "executionInfo": {
     "elapsed": 386,
     "status": "ok",
     "timestamp": 1696089271046,
     "user": {
      "displayName": "Al Chris",
      "userId": "05344342153170255499"
     },
     "user_tz": -60
    },
    "id": "HhckXiAgyMHZ"
   },
   "outputs": [],
   "source": [
    "data_dir = \"../Data\"\n",
    "img_size = (28, 28)\n",
    "batch_size = 128"
   ]
  },
  {
   "cell_type": "code",
   "execution_count": 16,
   "metadata": {
    "colab": {
     "base_uri": "https://localhost:8080/"
    },
    "executionInfo": {
     "elapsed": 2985,
     "status": "ok",
     "timestamp": 1696090191975,
     "user": {
      "displayName": "Al Chris",
      "userId": "05344342153170255499"
     },
     "user_tz": -60
    },
    "id": "yLpbUDqMylnS",
    "outputId": "bba35622-0b13-4197-bf1c-3d756b9de417"
   },
   "outputs": [
    {
     "name": "stdout",
     "output_type": "stream",
     "text": [
      "Found 1191 files belonging to 3 classes.\n",
      "Using 834 files for training.\n",
      "Found 1191 files belonging to 3 classes.\n",
      "Using 357 files for validation.\n"
     ]
    }
   ],
   "source": [
    "train_ds = image_dataset_from_directory(\n",
    "    data_dir,\n",
    "    validation_split=0.3,\n",
    "    subset='training',\n",
    "    seed=123,\n",
    "    image_size=img_size,\n",
    "    batch_size=batch_size\n",
    ")\n",
    "\n",
    "val_ds = image_dataset_from_directory(\n",
    "    data_dir,\n",
    "    validation_split=0.3,\n",
    "    subset='validation',\n",
    "    seed=123,\n",
    "    image_size=img_size,\n",
    "    batch_size=batch_size\n",
    ")"
   ]
  },
  {
   "cell_type": "code",
   "execution_count": 17,
   "metadata": {
    "executionInfo": {
     "elapsed": 363,
     "status": "ok",
     "timestamp": 1696090200924,
     "user": {
      "displayName": "Al Chris",
      "userId": "05344342153170255499"
     },
     "user_tz": -60
    },
    "id": "thPOKEz-zlh6"
   },
   "outputs": [],
   "source": [
    "class_names = train_ds.class_names"
   ]
  },
  {
   "cell_type": "code",
   "execution_count": null,
   "metadata": {
    "colab": {
     "base_uri": "https://localhost:8080/",
     "height": 829
    },
    "executionInfo": {
     "elapsed": 2127,
     "status": "ok",
     "timestamp": 1696090206444,
     "user": {
      "displayName": "Al Chris",
      "userId": "05344342153170255499"
     },
     "user_tz": -60
    },
    "id": "sv8ZnwCYyqEL",
    "outputId": "f00252bb-6f27-47f8-e2bd-5f804fafd868"
   },
   "outputs": [],
   "source": [
    "plt.figure(figsize=(10, 10))\n",
    "for images, labels in train_ds.take(1):\n",
    "    for i in range(9):\n",
    "\n",
    "        ax = plt.subplot(3, 3, i + 1)\n",
    "        plt.imshow(images[i].numpy().astype(\"uint8\"))\n",
    "        plt.title(class_names[labels[i]])\n",
    "        plt.axis(\"off\")"
   ]
  },
  {
   "cell_type": "code",
   "execution_count": null,
   "metadata": {
    "executionInfo": {
     "elapsed": 346,
     "status": "ok",
     "timestamp": 1696090218140,
     "user": {
      "displayName": "Al Chris",
      "userId": "05344342153170255499"
     },
     "user_tz": -60
    },
    "id": "nOoiUhAlytQP"
   },
   "outputs": [],
   "source": [
    "model = Sequential([\n",
    "    Conv2D(8, (3,3), input_shape=(28, 28, 3), padding='same'),\n",
    "    BatchNormalization(),\n",
    "    ReLU(),\n",
    "\n",
    "    MaxPooling2D(2, 2),\n",
    "\n",
    "    Conv2D(16, (3,3), padding='same'),\n",
    "    BatchNormalization(),\n",
    "    ReLU(),\n",
    "\n",
    "    MaxPooling2D(2, 2),\n",
    "\n",
    "    Conv2D(32, (3,3), padding='same'),\n",
    "    BatchNormalization(),\n",
    "    ReLU(),\n",
    "\n",
    "    Flatten(),\n",
    "    Dense(4)\n",
    "])"
   ]
  },
  {
   "cell_type": "code",
   "execution_count": null,
   "metadata": {
    "executionInfo": {
     "elapsed": 336,
     "status": "ok",
     "timestamp": 1696090222877,
     "user": {
      "displayName": "Al Chris",
      "userId": "05344342153170255499"
     },
     "user_tz": -60
    },
    "id": "0-EFZnCNyx97"
   },
   "outputs": [],
   "source": [
    "model.compile(optimizer='adam', loss=SparseCategoricalCrossentropy(from_logits=True), metrics=['accuracy'])"
   ]
  },
  {
   "cell_type": "code",
   "execution_count": null,
   "metadata": {
    "colab": {
     "base_uri": "https://localhost:8080/"
    },
    "executionInfo": {
     "elapsed": 167466,
     "status": "ok",
     "timestamp": 1696090405435,
     "user": {
      "displayName": "Al Chris",
      "userId": "05344342153170255499"
     },
     "user_tz": -60
    },
    "id": "TH_BR1D1zB4h",
    "outputId": "794bfcc7-4647-45ab-d711-c91df3051482"
   },
   "outputs": [
    {
     "name": "stdout",
     "output_type": "stream",
     "text": [
      "Epoch 1/4\n",
      "124/124 [==============================] - 124s 1s/step - loss: 0.2372 - accuracy: 0.8892 - val_loss: 0.4457 - val_accuracy: 0.7567\n",
      "Epoch 2/4\n",
      "124/124 [==============================] - 8s 59ms/step - loss: 0.1032 - accuracy: 0.9597 - val_loss: 0.0970 - val_accuracy: 0.9751\n",
      "Epoch 3/4\n",
      "124/124 [==============================] - 8s 61ms/step - loss: 0.0793 - accuracy: 0.9696 - val_loss: 0.1492 - val_accuracy: 0.9278\n",
      "Epoch 4/4\n",
      "124/124 [==============================] - 9s 70ms/step - loss: 0.0781 - accuracy: 0.9703 - val_loss: 0.2556 - val_accuracy: 0.9011\n"
     ]
    },
    {
     "data": {
      "text/plain": [
       "<keras.src.callbacks.History at 0x7a1c801ad0f0>"
      ]
     },
     "execution_count": 19,
     "metadata": {},
     "output_type": "execute_result"
    }
   ],
   "source": [
    "model.fit(\n",
    "    train_ds,\n",
    "    validation_data=val_ds,\n",
    "    epochs=4,\n",
    "    validation_split=0.3,\n",
    "    callbacks=[early_stopping_monitor],\n",
    "    verbose=True\n",
    ")"
   ]
  },
  {
   "cell_type": "markdown",
   "metadata": {},
   "source": [
    "# Save the Model"
   ]
  },
  {
   "cell_type": "code",
   "execution_count": null,
   "metadata": {},
   "outputs": [],
   "source": [
    "path_to_save_model = 'saved_model'\n",
    "\n",
    "# Save the entire model\n",
    "model.save(path_to_save_model)\n",
    "\n",
    "# If you only want to save the model architecture and weights (without optimizer state)\n",
    "# Uncomment the following line and comment out the previous 'model.save()' line\n",
    "# model.save(path_to_save_model, save_format='tf')"
   ]
  }
 ],
 "metadata": {
  "colab": {
   "authorship_tag": "ABX9TyMEPLMiN4ZzHG5ly9ewnj9K",
   "provenance": []
  },
  "kernelspec": {
   "display_name": "Python 3 (ipykernel)",
   "language": "python",
   "name": "python3"
  },
  "language_info": {
   "codemirror_mode": {
    "name": "ipython",
    "version": 3
   },
   "file_extension": ".py",
   "mimetype": "text/x-python",
   "name": "python",
   "nbconvert_exporter": "python",
   "pygments_lexer": "ipython3",
   "version": "3.10.9"
  }
 },
 "nbformat": 4,
 "nbformat_minor": 1
}
